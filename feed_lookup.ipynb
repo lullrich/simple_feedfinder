{
 "cells": [
  {
   "cell_type": "code",
   "execution_count": 36,
   "metadata": {
    "collapsed": true
   },
   "outputs": [],
   "source": [
    "import re\n",
    "import requests\n",
    "import feedparser\n",
    "from urllib.parse import urljoin\n",
    "from itertools import chain\n",
    "from bs4 import BeautifulSoup"
   ]
  },
  {
   "cell_type": "code",
   "execution_count": 51,
   "metadata": {
    "collapsed": false
   },
   "outputs": [],
   "source": [
    "urls = ['http://www.cnet.com',\n",
    "        'http://www.thefrisky.com',\n",
    "        'http://www.nbcnews.com',\n",
    "        'http://thedailypage.com',\n",
    "        'http://www.popsci.com',\n",
    "        'http://www.pbs.org']"
   ]
  },
  {
   "cell_type": "code",
   "execution_count": 56,
   "metadata": {
    "collapsed": false
   },
   "outputs": [
    {
     "name": "stdout",
     "output_type": "stream",
     "text": [
      "Getting: http://www.cnet.com\n",
      "done\n",
      "looking for feeds\n",
      "done\n",
      "Getting: http://www.thefrisky.com\n",
      "done\n",
      "looking for feeds\n",
      "done\n",
      "Getting: http://www.nbcnews.com\n",
      "done\n",
      "looking for feeds\n",
      "done\n",
      "Getting: http://thedailypage.com\n",
      "done\n",
      "looking for feeds\n",
      "done\n",
      "Getting: http://www.popsci.com\n",
      "done\n",
      "looking for feeds\n",
      "done\n",
      "Getting: http://www.pbs.org\n",
      "done\n",
      "looking for feeds\n",
      "done\n",
      "4 found\n",
      "CPU times: user 1.04 s, sys: 12 ms, total: 1.05 s\n",
      "Wall time: 6.17 s\n"
     ]
    },
    {
     "data": {
      "text/plain": [
       "['http://www.cnet.com/rss/all/',\n",
       " 'http://www.thefrisky.com/feed',\n",
       " 'http://isthmus.com/api/rss/content.rss',\n",
       " 'http://isthmus.com/api/rss/flipboard.rss']"
      ]
     },
     "execution_count": 56,
     "metadata": {},
     "output_type": "execute_result"
    }
   ],
   "source": [
    "def get_feed_links(res):\n",
    "\n",
    "    pattern = re.compile(r\"(rss)|(atom)|(rdf)\")\n",
    "    try:\n",
    "        print('checking for feeds')\n",
    "        resultset = BeautifulSoup(res.content, \"lxml\").findAll(\"link\", attrs={\"type\": pattern})\n",
    "        rss_links = [urljoin(res.url, link.get(\"href\")) for link in resultset]\n",
    "        return rss_links\n",
    "    \n",
    "    except Exception as e:\n",
    "        print(e)\n",
    "    \n",
    "    finally:\n",
    "        print('done')\n",
    "        \n",
    "def get_response(url):\n",
    "\n",
    "    print(\"Getting:\", url)\n",
    "    try:\n",
    "        response = requests.get(url, timeout = 3)\n",
    "        response.raise_for_status()\n",
    "        response.url = url\n",
    "        return response\n",
    "    except requests.exceptions.RequestException as e:\n",
    "        print (e)\n",
    "        return\n",
    "    \n",
    "    \n",
    "def get_feeds(urls):\n",
    "    results = (get_response(url) for url in urls)\n",
    "    links = (get_feed_links(res) for res in results)\n",
    "    links = list(filter(None, chain.from_iterable(links)))\n",
    "    print(\"%d feeds found\" % (len(links)))\n",
    "    return links\n",
    "    \n",
    "\n",
    "%time links = get_feeds(urls)\n",
    "links"
   ]
  }
 ],
 "metadata": {
  "kernelspec": {
   "display_name": "Python 3",
   "language": "python",
   "name": "python3"
  },
  "language_info": {
   "codemirror_mode": {
    "name": "ipython",
    "version": 3
   },
   "file_extension": ".py",
   "mimetype": "text/x-python",
   "name": "python",
   "nbconvert_exporter": "python",
   "pygments_lexer": "ipython3",
   "version": "3.5.1"
  }
 },
 "nbformat": 4,
 "nbformat_minor": 0
}
