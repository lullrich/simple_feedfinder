{
 "cells": [
  {
   "cell_type": "code",
   "execution_count": 4,
   "metadata": {
    "collapsed": false
   },
   "outputs": [],
   "source": [
    "import re\n",
    "import requests\n",
    "import pandas as pd\n",
    "from urllib.parse import urljoin\n",
    "from bs4 import BeautifulSoup\n",
    "from tkinter import Tk"
   ]
  },
  {
   "cell_type": "code",
   "execution_count": 5,
   "metadata": {
    "collapsed": false
   },
   "outputs": [],
   "source": [
    "r = Tk()\n",
    "text = r.clipboard_get()\n",
    "r.withdraw()\n",
    "r.update()\n",
    "r.destroy()"
   ]
  },
  {
   "cell_type": "code",
   "execution_count": 6,
   "metadata": {
    "collapsed": false
   },
   "outputs": [],
   "source": [
    "s = BeautifulSoup(text, \"lxml\")\n",
    "links = s.select('td > a')\n",
    "urls = (l.get('href') for l in links)\n",
    "names = (n.text for n in links)\n",
    "named_urls = zip(names, urls)"
   ]
  },
  {
   "cell_type": "code",
   "execution_count": 8,
   "metadata": {
    "collapsed": false
   },
   "outputs": [
    {
     "name": "stdout",
     "output_type": "stream",
     "text": [
      "Getting: http://www.romandie.com\n",
      "checking for feeds\n",
      "0 feeds\n",
      "Getting: http://www.spiegel.de\n",
      "checking for feeds\n",
      "2 feeds\n",
      "Getting: http://www.ft.com\n",
      "checking for feeds\n",
      "1 feeds\n",
      "Getting: http://www.smh.com.au\n",
      "checking for feeds\n",
      "1 feeds\n",
      "Getting: http://www.heilpraxisnet.de\n",
      "checking for feeds\n",
      "2 feeds\n",
      "CPU times: user 1.24 s, sys: 28 ms, total: 1.27 s\n",
      "Wall time: 2.25 s\n"
     ]
    }
   ],
   "source": [
    "def get_feed_links(res):\n",
    "    if (res):\n",
    "        pattern = re.compile(r\"(rss)|(atom)|(rdf)\")\n",
    "        try:\n",
    "            print('checking for feeds')\n",
    "            resultset = BeautifulSoup(res.content, \"lxml\").findAll(\"link\", attrs={\"type\": pattern})\n",
    "            rss_links = [urljoin(res.url, link.get(\"href\")) for link in resultset]\n",
    "            print('%d feeds' % (len(rss_links)))\n",
    "            return rss_links\n",
    "\n",
    "        except Exception as e:\n",
    "            print(e)\n",
    "    else:\n",
    "        return []\n",
    "    \n",
    "        \n",
    "def get_response(url):\n",
    "\n",
    "    print(\"Getting: %s\" % (url))\n",
    "    try:\n",
    "        response = requests.get(url, timeout = 3)\n",
    "        response.url = url\n",
    "        if (response.ok):\n",
    "            return response\n",
    "        else:\n",
    "            response.raise_for_status()\n",
    "    except requests.exceptions.RequestException as e:\n",
    "        print (e)\n",
    "        return\n",
    "    \n",
    "    \n",
    "def get_feeds(urls):\n",
    "    names = (url[0] for url in urls)\n",
    "    domains = (url[1] for url in urls)\n",
    "    results = (get_response(url[1]) for url in urls)\n",
    "    links = (filter(None, get_feed_links(res)) for res in results)\n",
    "    zipped = zip(names, domains, links)\n",
    "    \n",
    "    result = [{'name':n, 'domain':d, 'feeds':list(f)} for n, d, f in zipped]\n",
    "    return result\n",
    "    \n",
    "\n",
    "%time links = get_feeds(named_urls)"
   ]
  },
  {
   "cell_type": "code",
   "execution_count": 12,
   "metadata": {
    "collapsed": false
   },
   "outputs": [
    {
     "data": {
      "text/html": [
       "<div>\n",
       "<table border=\"1\" class=\"dataframe\">\n",
       "  <thead>\n",
       "    <tr style=\"text-align: right;\">\n",
       "      <th></th>\n",
       "      <th>domain</th>\n",
       "      <th>feeds</th>\n",
       "      <th>name</th>\n",
       "    </tr>\n",
       "  </thead>\n",
       "  <tbody>\n",
       "    <tr>\n",
       "      <th>0</th>\n",
       "      <td>http://www.abola.pt</td>\n",
       "      <td>[]</td>\n",
       "      <td>香港新浪網</td>\n",
       "    </tr>\n",
       "    <tr>\n",
       "      <th>1</th>\n",
       "      <td>http://www.ilsole24ore.com</td>\n",
       "      <td>[http://www.spiegel.de/schlagzeilen/index.rss,...</td>\n",
       "      <td>Sport.cz</td>\n",
       "    </tr>\n",
       "    <tr>\n",
       "      <th>2</th>\n",
       "      <td>http://www.telegraaf.nl</td>\n",
       "      <td>[http://www.ft.com/rss/home/uk]</td>\n",
       "      <td>Irish Independent</td>\n",
       "    </tr>\n",
       "    <tr>\n",
       "      <th>3</th>\n",
       "      <td>http://news.google.com</td>\n",
       "      <td>[http://feeds.smh.com.au/rssheadlines/top.xml]</td>\n",
       "      <td>The Hindu</td>\n",
       "    </tr>\n",
       "    <tr>\n",
       "      <th>4</th>\n",
       "      <td>http://www.independent.ie</td>\n",
       "      <td>[http://www.heilpraxisnet.de/feed, http://www....</td>\n",
       "      <td>El País.com (España)</td>\n",
       "    </tr>\n",
       "  </tbody>\n",
       "</table>\n",
       "</div>"
      ],
      "text/plain": [
       "                       domain  \\\n",
       "0         http://www.abola.pt   \n",
       "1  http://www.ilsole24ore.com   \n",
       "2     http://www.telegraaf.nl   \n",
       "3      http://news.google.com   \n",
       "4   http://www.independent.ie   \n",
       "\n",
       "                                               feeds                  name  \n",
       "0                                                 []                 香港新浪網  \n",
       "1  [http://www.spiegel.de/schlagzeilen/index.rss,...              Sport.cz  \n",
       "2                    [http://www.ft.com/rss/home/uk]     Irish Independent  \n",
       "3     [http://feeds.smh.com.au/rssheadlines/top.xml]             The Hindu  \n",
       "4  [http://www.heilpraxisnet.de/feed, http://www....  El País.com (España)  "
      ]
     },
     "execution_count": 12,
     "metadata": {},
     "output_type": "execute_result"
    }
   ],
   "source": [
    "df = pd.DataFrame(links)\n",
    "df"
   ]
  },
  {
   "cell_type": "code",
   "execution_count": 16,
   "metadata": {
    "collapsed": false
   },
   "outputs": [],
   "source": [
    "f = df.apply(lambda x: pd.Series(x['feeds']),axis=1).stack().reset_index(level=1, drop=True)\n",
    "f.name = 'feed'"
   ]
  },
  {
   "cell_type": "code",
   "execution_count": 24,
   "metadata": {
    "collapsed": false
   },
   "outputs": [
    {
     "ename": "ValueError",
     "evalue": "labels ['feeds'] not contained in axis",
     "output_type": "error",
     "traceback": [
      "\u001b[1;31m---------------------------------------------------------------------------\u001b[0m",
      "\u001b[1;31mValueError\u001b[0m                                Traceback (most recent call last)",
      "\u001b[1;32m<ipython-input-24-17b0eac7e54d>\u001b[0m in \u001b[0;36m<module>\u001b[1;34m()\u001b[0m\n\u001b[1;32m----> 1\u001b[1;33m \u001b[0mdf\u001b[0m \u001b[1;33m=\u001b[0m \u001b[0mdf\u001b[0m\u001b[1;33m.\u001b[0m\u001b[0mdrop\u001b[0m\u001b[1;33m(\u001b[0m\u001b[1;34m'feeds'\u001b[0m\u001b[1;33m,\u001b[0m \u001b[0maxis\u001b[0m\u001b[1;33m=\u001b[0m\u001b[1;36m1\u001b[0m\u001b[1;33m)\u001b[0m\u001b[1;33m.\u001b[0m\u001b[0mjoin\u001b[0m\u001b[1;33m(\u001b[0m\u001b[0mf\u001b[0m\u001b[1;33m)\u001b[0m\u001b[1;33m\u001b[0m\u001b[0m\n\u001b[0m\u001b[0;32m      2\u001b[0m \u001b[0mdf\u001b[0m\u001b[1;33m.\u001b[0m\u001b[0mdropna\u001b[0m\u001b[1;33m\u001b[0m\u001b[0m\n",
      "\u001b[1;32m/home/lars/anaconda3/lib/python3.5/site-packages/pandas/core/generic.py\u001b[0m in \u001b[0;36mdrop\u001b[1;34m(self, labels, axis, level, inplace, errors)\u001b[0m\n\u001b[0;32m   1875\u001b[0m                 \u001b[0mnew_axis\u001b[0m \u001b[1;33m=\u001b[0m \u001b[0maxis\u001b[0m\u001b[1;33m.\u001b[0m\u001b[0mdrop\u001b[0m\u001b[1;33m(\u001b[0m\u001b[0mlabels\u001b[0m\u001b[1;33m,\u001b[0m \u001b[0mlevel\u001b[0m\u001b[1;33m=\u001b[0m\u001b[0mlevel\u001b[0m\u001b[1;33m,\u001b[0m \u001b[0merrors\u001b[0m\u001b[1;33m=\u001b[0m\u001b[0merrors\u001b[0m\u001b[1;33m)\u001b[0m\u001b[1;33m\u001b[0m\u001b[0m\n\u001b[0;32m   1876\u001b[0m             \u001b[1;32melse\u001b[0m\u001b[1;33m:\u001b[0m\u001b[1;33m\u001b[0m\u001b[0m\n\u001b[1;32m-> 1877\u001b[1;33m                 \u001b[0mnew_axis\u001b[0m \u001b[1;33m=\u001b[0m \u001b[0maxis\u001b[0m\u001b[1;33m.\u001b[0m\u001b[0mdrop\u001b[0m\u001b[1;33m(\u001b[0m\u001b[0mlabels\u001b[0m\u001b[1;33m,\u001b[0m \u001b[0merrors\u001b[0m\u001b[1;33m=\u001b[0m\u001b[0merrors\u001b[0m\u001b[1;33m)\u001b[0m\u001b[1;33m\u001b[0m\u001b[0m\n\u001b[0m\u001b[0;32m   1878\u001b[0m             \u001b[0mdropped\u001b[0m \u001b[1;33m=\u001b[0m \u001b[0mself\u001b[0m\u001b[1;33m.\u001b[0m\u001b[0mreindex\u001b[0m\u001b[1;33m(\u001b[0m\u001b[1;33m**\u001b[0m\u001b[1;33m{\u001b[0m\u001b[0maxis_name\u001b[0m\u001b[1;33m:\u001b[0m \u001b[0mnew_axis\u001b[0m\u001b[1;33m}\u001b[0m\u001b[1;33m)\u001b[0m\u001b[1;33m\u001b[0m\u001b[0m\n\u001b[0;32m   1879\u001b[0m             \u001b[1;32mtry\u001b[0m\u001b[1;33m:\u001b[0m\u001b[1;33m\u001b[0m\u001b[0m\n",
      "\u001b[1;32m/home/lars/anaconda3/lib/python3.5/site-packages/pandas/indexes/base.py\u001b[0m in \u001b[0;36mdrop\u001b[1;34m(self, labels, errors)\u001b[0m\n\u001b[0;32m   3049\u001b[0m             \u001b[1;32mif\u001b[0m \u001b[0merrors\u001b[0m \u001b[1;33m!=\u001b[0m \u001b[1;34m'ignore'\u001b[0m\u001b[1;33m:\u001b[0m\u001b[1;33m\u001b[0m\u001b[0m\n\u001b[0;32m   3050\u001b[0m                 raise ValueError('labels %s not contained in axis' %\n\u001b[1;32m-> 3051\u001b[1;33m                                  labels[mask])\n\u001b[0m\u001b[0;32m   3052\u001b[0m             \u001b[0mindexer\u001b[0m \u001b[1;33m=\u001b[0m \u001b[0mindexer\u001b[0m\u001b[1;33m[\u001b[0m\u001b[1;33m~\u001b[0m\u001b[0mmask\u001b[0m\u001b[1;33m]\u001b[0m\u001b[1;33m\u001b[0m\u001b[0m\n\u001b[0;32m   3053\u001b[0m         \u001b[1;32mreturn\u001b[0m \u001b[0mself\u001b[0m\u001b[1;33m.\u001b[0m\u001b[0mdelete\u001b[0m\u001b[1;33m(\u001b[0m\u001b[0mindexer\u001b[0m\u001b[1;33m)\u001b[0m\u001b[1;33m\u001b[0m\u001b[0m\n",
      "\u001b[1;31mValueError\u001b[0m: labels ['feeds'] not contained in axis"
     ]
    }
   ],
   "source": [
    "df = df.drop('feeds', axis=1).join(f)"
   ]
  },
  {
   "cell_type": "code",
   "execution_count": 26,
   "metadata": {
    "collapsed": false
   },
   "outputs": [
    {
     "data": {
      "text/html": [
       "<div>\n",
       "<table border=\"1\" class=\"dataframe\">\n",
       "  <thead>\n",
       "    <tr style=\"text-align: right;\">\n",
       "      <th></th>\n",
       "      <th>domain</th>\n",
       "      <th>name</th>\n",
       "      <th>feed</th>\n",
       "    </tr>\n",
       "  </thead>\n",
       "  <tbody>\n",
       "    <tr>\n",
       "      <th>1</th>\n",
       "      <td>http://www.ilsole24ore.com</td>\n",
       "      <td>Sport.cz</td>\n",
       "      <td>http://www.spiegel.de/schlagzeilen/index.rss</td>\n",
       "    </tr>\n",
       "    <tr>\n",
       "      <th>1</th>\n",
       "      <td>http://www.ilsole24ore.com</td>\n",
       "      <td>Sport.cz</td>\n",
       "      <td>http://www.spiegel.de/index.rss</td>\n",
       "    </tr>\n",
       "    <tr>\n",
       "      <th>2</th>\n",
       "      <td>http://www.telegraaf.nl</td>\n",
       "      <td>Irish Independent</td>\n",
       "      <td>http://www.ft.com/rss/home/uk</td>\n",
       "    </tr>\n",
       "    <tr>\n",
       "      <th>3</th>\n",
       "      <td>http://news.google.com</td>\n",
       "      <td>The Hindu</td>\n",
       "      <td>http://feeds.smh.com.au/rssheadlines/top.xml</td>\n",
       "    </tr>\n",
       "    <tr>\n",
       "      <th>4</th>\n",
       "      <td>http://www.independent.ie</td>\n",
       "      <td>El País.com (España)</td>\n",
       "      <td>http://www.heilpraxisnet.de/feed</td>\n",
       "    </tr>\n",
       "    <tr>\n",
       "      <th>4</th>\n",
       "      <td>http://www.independent.ie</td>\n",
       "      <td>El País.com (España)</td>\n",
       "      <td>http://www.heilpraxisnet.de/comments/feed</td>\n",
       "    </tr>\n",
       "  </tbody>\n",
       "</table>\n",
       "</div>"
      ],
      "text/plain": [
       "                       domain                  name  \\\n",
       "1  http://www.ilsole24ore.com              Sport.cz   \n",
       "1  http://www.ilsole24ore.com              Sport.cz   \n",
       "2     http://www.telegraaf.nl     Irish Independent   \n",
       "3      http://news.google.com             The Hindu   \n",
       "4   http://www.independent.ie  El País.com (España)   \n",
       "4   http://www.independent.ie  El País.com (España)   \n",
       "\n",
       "                                           feed  \n",
       "1  http://www.spiegel.de/schlagzeilen/index.rss  \n",
       "1               http://www.spiegel.de/index.rss  \n",
       "2                 http://www.ft.com/rss/home/uk  \n",
       "3  http://feeds.smh.com.au/rssheadlines/top.xml  \n",
       "4              http://www.heilpraxisnet.de/feed  \n",
       "4     http://www.heilpraxisnet.de/comments/feed  "
      ]
     },
     "execution_count": 26,
     "metadata": {},
     "output_type": "execute_result"
    }
   ],
   "source": [
    "df = df.dropna()"
   ]
  },
  {
   "cell_type": "code",
   "execution_count": 23,
   "metadata": {
    "collapsed": true
   },
   "outputs": [],
   "source": [
    "df.to_csv('feeds.csv', sep=\"\\t\", index=False)"
   ]
  },
  {
   "cell_type": "code",
   "execution_count": null,
   "metadata": {
    "collapsed": true
   },
   "outputs": [],
   "source": []
  }
 ],
 "metadata": {
  "kernelspec": {
   "display_name": "Python 3",
   "language": "python",
   "name": "python3"
  },
  "language_info": {
   "codemirror_mode": {
    "name": "ipython",
    "version": 3
   },
   "file_extension": ".py",
   "mimetype": "text/x-python",
   "name": "python",
   "nbconvert_exporter": "python",
   "pygments_lexer": "ipython3",
   "version": "3.5.1"
  }
 },
 "nbformat": 4,
 "nbformat_minor": 0
}
